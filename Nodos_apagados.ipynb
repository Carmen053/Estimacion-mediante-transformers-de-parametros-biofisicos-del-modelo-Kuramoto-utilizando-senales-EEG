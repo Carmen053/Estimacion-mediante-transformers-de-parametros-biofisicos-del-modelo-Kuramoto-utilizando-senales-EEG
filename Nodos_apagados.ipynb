{
 "cells": [
  {
   "cell_type": "markdown",
   "id": "dcbd50d5",
   "metadata": {},
   "source": [
    "# Aplicación del moelo de 496 clases a datos con un nodo apagos pre y post normalización"
   ]
  },
  {
   "cell_type": "markdown",
   "id": "6814ea17",
   "metadata": {},
   "source": [
    "### Librerias y funciones"
   ]
  },
  {
   "cell_type": "code",
   "execution_count": null,
   "id": "e38b9bab",
   "metadata": {},
   "outputs": [],
   "source": [
    "import keras\n",
    "import numpy as np\n",
    "import matplotlib.pyplot as plt\n",
    "import pandas as pd\n",
    "import scipy.io as sio\n",
    "import pandas as pd\n",
    "import itertools\n",
    "from collections import Counter\n",
    "import matplotlib.pyplot as plt"
   ]
  },
  {
   "cell_type": "markdown",
   "id": "04110469",
   "metadata": {},
   "source": [
    "### Carga de datos"
   ]
  },
  {
   "cell_type": "code",
   "execution_count": null,
   "id": "e6e016f9",
   "metadata": {},
   "outputs": [],
   "source": [
    "mat = sio.loadmat('Spectrums_removingNode_afterNormalization.mat') #Se debe establecer la ruta del archivo que se desee usar\n",
    "\n",
    "\n",
    "nodo = []\n",
    "espectro = []\n",
    "\n",
    "# Procesamos los datos\n",
    "for i in range(len(mat['Spectrums'])):\n",
    "  for j in mat['Spectrums'][i]:\n",
    "    nodo.append(mat['nodes'][0][i])\n",
    "    espectro.append(j)\n",
    "\n",
    "dicta = {'nodos': nodo, 'Espectro': espectro}\n",
    "df = pd.DataFrame(dicta) # Creamos el DataFrame\n",
    "\n",
    "df['Cortada'] = df['Espectro'].apply(lambda x: np.array(x[0:500])) # Limitamos la entrada a una longitud de 500\n",
    "print(df.head())\n",
    "\n",
    "\n",
    "x_test = np.array(list(df['Cortada']))\n",
    "nodos = np.array(list(df['nodos']))"
   ]
  },
  {
   "cell_type": "markdown",
   "id": "0d41f07d",
   "metadata": {},
   "source": [
    "### Carga del modelo\n",
    "\n",
    "Elegimos el modelo que deseamos."
   ]
  },
  {
   "cell_type": "code",
   "execution_count": null,
   "id": "dc329f0b",
   "metadata": {},
   "outputs": [],
   "source": [
    "#model = keras.models.load_model(\"/home/carmen/datos/TFG_carpeta_modelo/mejor_modelo_4clases_1/\") # Modelo 4 clases\n",
    "#model= keras.models.load_model(\"/home/carmen/datos/TFG_carpeta_modelo/mejor_modelo_121clases_2/\") # Modelo 121 clases\n",
    "#model = keras.models.load_model(\"/home/carmen/datos/TFG_carpeta_modelo/mejor_modelo3/\") # Modelo 256 clases\n",
    "model = keras.models.load_model(\"/home/carmen/datos/TFG_carpeta_modelo/mejor_modelo_496clases_4/\") # Modelo 496 clases"
   ]
  },
  {
   "cell_type": "markdown",
   "id": "a6be37a9",
   "metadata": {},
   "source": [
    "### Calculamos la predicción "
   ]
  },
  {
   "cell_type": "code",
   "execution_count": null,
   "id": "188a87ed",
   "metadata": {},
   "outputs": [],
   "source": [
    "p4 = []\n",
    "for i in range(len(x_test)):\n",
    "    p4.append(np.argmax(model.predict(x_test[i:(i+1)], verbose= 0)))"
   ]
  },
  {
   "cell_type": "code",
   "execution_count": null,
   "id": "8406031b",
   "metadata": {},
   "outputs": [],
   "source": [
    "p14 = p4[:90] # Predicción nodo 14\n",
    "p17 = p4[90:180] # Predicción nodo 17\n",
    "p76 = p4[180:] # Predicción nodo 76\n"
   ]
  },
  {
   "cell_type": "markdown",
   "id": "f08db921",
   "metadata": {},
   "source": [
    "### Calcular tau y kappa"
   ]
  },
  {
   "cell_type": "code",
   "execution_count": null,
   "id": "e6783441",
   "metadata": {},
   "outputs": [],
   "source": [
    "# Definimos los rangos de valores para K y Tau y creamos un DataFrame para saber la equivalencia entre clases y variables\n",
    "K_values = range(0, 16)  # de 0 a 15\n",
    "Tau_values = range(0, 31)  # de 0 a 30\n",
    "combinations = list(itertools.product(K_values, Tau_values))\n",
    "df = pd.DataFrame(combinations, columns=['K', 'Tau'])"
   ]
  },
  {
   "cell_type": "code",
   "execution_count": null,
   "id": "617ff92f",
   "metadata": {},
   "outputs": [],
   "source": [
    "# Resultado de las predicciones. En este caso se utiliza las predicciones cuando el nodo 76 está apagado. \n",
    "# Para ver el resultado de las otras predicciones solo tendríamos que cambiar p76 por 'p14' o 'p17'\n",
    "\n",
    "conteo = Counter(p76) \n",
    "conteo"
   ]
  },
  {
   "cell_type": "code",
   "execution_count": null,
   "id": "47d4538a",
   "metadata": {},
   "outputs": [],
   "source": [
    "\n",
    "k_p =[]\n",
    "tau_p=[]\n",
    "\n",
    "for i in conteo.keys(): #las clases predichas\n",
    "    print(i, df.iloc[i][0], df.iloc[i][1])\n",
    "    \n",
    "    k_p.append(df.iloc[i][0]) #K predicha\n",
    "    tau_p.append(df.iloc[i][1]) #tau predicha"
   ]
  },
  {
   "cell_type": "code",
   "execution_count": null,
   "id": "49abaf8a",
   "metadata": {},
   "outputs": [],
   "source": [
    "\n",
    "n_p = conteo.values() #predicciones para cada clase\n",
    "\n",
    "size = []\n",
    "leg = []\n",
    "s_leyenda = []\n",
    "\n",
    "for i in n_p:\n",
    "    size.append(i*10) #representar\n",
    "    s_leyenda.append(i)\n",
    "    \n",
    "    \n",
    "sorted_indices = np.argsort(size)[::-1]\n",
    "k_p = np.array(k_p)\n",
    "tau_p = np.array(tau_p)\n",
    "size = np.array(size)\n",
    "s_leyenda = np.array(s_leyenda)\n",
    "\n",
    "s_leyenda = s_leyenda[sorted_indices]\n",
    "k_p = k_p[sorted_indices]\n",
    "tau_p = tau_p[sorted_indices]\n",
    "\n",
    "size = size[sorted_indices] \n",
    "\n",
    "k_leyenda = k_p\n",
    "tau_leyenda = tau_p\n",
    "\n",
    "size= size.tolist()\n",
    "tau_p = tau_p.tolist()\n",
    "k_p =k_p.tolist()\n",
    "\n",
    "bueno = size.pop(0) \n",
    "x_bueno = tau_p.pop(0)  \n",
    "y_bueno = k_p.pop(0)\n",
    "\n"
   ]
  },
  {
   "cell_type": "markdown",
   "id": "60ef0358",
   "metadata": {},
   "source": [
    "### Representación de los resultados"
   ]
  },
  {
   "cell_type": "code",
   "execution_count": null,
   "id": "9fc018a8",
   "metadata": {},
   "outputs": [],
   "source": [
    "x_values = tau_p  # Valores del eje X de 0 a 100\n",
    "y_values = k_p  # Valores del eje Y en la diagonal proporcional\n",
    "sizes = size \n",
    "\n",
    "\n",
    "highlight_point = (21, 4)  # Resaltamos la clase con los valores usados en la simulación\n",
    "\n",
    "\n",
    "plt.figure(figsize=(10, 6))\n",
    "plt.scatter(x_values, y_values, color='blue',s = sizes)\n",
    "plt.scatter(*highlight_point, color='lightgreen', s=bueno)\n",
    "\n",
    "plt.yticks(range(0,16,1))\n",
    "plt.xticks(range(0,31,1))\n",
    "plt.title('Predicciones con nodo 76 apagado después de la normalización, 496 clases')\n",
    "plt.xlabel('Tau')\n",
    "plt.ylabel('K')\n",
    "handles = [\n",
    "    plt.Line2D([], [], marker='o', color='blue', markersize=10, linestyle='None', label='Otras predicciones'),\n",
    "    plt.Line2D([], [], marker='o', color='lightgreen', markersize=10, linestyle='None', label='Correcta')\n",
    "]\n",
    "labels = ['Otras predicciones', 'Predicción correcta']\n",
    "\n",
    "# Añadimos la leyenda \n",
    "plt.legend(handles=handles, labels=labels)\n",
    "plt.grid(True)\n",
    "ax2 = plt.twinx()\n",
    "ax2.grid(False)\n",
    "ax2.set_yticks([])\n",
    "\n",
    "# Texto de las predicciones\n",
    "textos = [f'Tau = {x}, K = {y}, Número de predicciones = {z}' for x, y, z in zip(tau_l, kl_l, leg)]\n",
    "\n",
    "for i, texto in enumerate(textos):\n",
    "    color = 'green' if i == 0 else 'black'  \n",
    "    ax2.text(1.02, 1 - i / len(textos), texto, transform=ax2.transAxes,\n",
    "             ha='left', va='top', fontsize=10, color=color)\n",
    "\n",
    "\n",
    "plt.subplots_adjust(right=0.95)\n",
    "plt.show()\n"
   ]
  }
 ],
 "metadata": {
  "kernelspec": {
   "display_name": "Python 3 (ipykernel)",
   "language": "python",
   "name": "python3"
  },
  "language_info": {
   "codemirror_mode": {
    "name": "ipython",
    "version": 3
   },
   "file_extension": ".py",
   "mimetype": "text/x-python",
   "name": "python",
   "nbconvert_exporter": "python",
   "pygments_lexer": "ipython3",
   "version": "3.11.4"
  }
 },
 "nbformat": 4,
 "nbformat_minor": 5
}
